{
 "cells": [
  {
   "cell_type": "markdown",
   "id": "12e7725c-2c7a-439e-9f43-bdee30b7132f",
   "metadata": {},
   "source": [
    "## Geoampify Feature Extraction"
   ]
  },
  {
   "cell_type": "code",
   "execution_count": null,
   "id": "08f803ee-2d36-474c-830c-8b0a66aeca6a",
   "metadata": {},
   "outputs": [],
   "source": [
    "# # Code formatter\n",
    "# # !pip3 install nb_black\n",
    "# %load_ext nb_black"
   ]
  },
  {
   "cell_type": "code",
   "execution_count": 1,
   "id": "7f70d422-5779-4b15-a969-701681bbde3e",
   "metadata": {},
   "outputs": [],
   "source": [
    "# Import required libraries\n",
    "\n",
    "# eda tools\n",
    "import numpy as np\n",
    "import pandas as pd\n",
    "import re\n",
    "\n",
    "# visualization dependencies\n",
    "import matplotlib.pyplot as plt  \n",
    "import seaborn as sns\n",
    "\n",
    "# hide jupyter lab warnings\n",
    "import warnings\n",
    "warnings.filterwarnings('ignore')\n",
    "\n",
    "# expand the number of dataframe columns visible\n",
    "pd.options.display.max_columns = 100\n",
    "\n",
    "# make sound when this code executes: Audio(sound_file, autoplay=True)\n",
    "from IPython.display import Audio\n",
    "sound_file = './sound/chord.wav'\n"
   ]
  },
  {
   "cell_type": "code",
   "execution_count": 2,
   "id": "db7170a4-fc21-47ad-92c1-c5b8ef144f61",
   "metadata": {},
   "outputs": [
    {
     "data": {
      "text/html": [
       "<details>\n",
       "<summary>Click to view session information</summary>\n",
       "<pre>\n",
       "-----\n",
       "matplotlib          3.7.1\n",
       "numpy               1.23.5\n",
       "pandas              1.5.3\n",
       "session_info        1.0.0\n",
       "sklearn             1.2.2\n",
       "statsmodels         0.14.0\n",
       "-----\n",
       "</pre>\n",
       "<details>\n",
       "<summary>Click to view modules imported as dependencies</summary>\n",
       "<pre>\n",
       "PIL                         9.4.0\n",
       "asttokens                   NA\n",
       "backcall                    0.2.0\n",
       "beta_ufunc                  NA\n",
       "binom_ufunc                 NA\n",
       "bottleneck                  1.3.5\n",
       "cffi                        1.15.1\n",
       "cloudpickle                 2.2.1\n",
       "colorama                    0.4.6\n",
       "comm                        0.1.2\n",
       "cycler                      0.10.0\n",
       "cython_runtime              NA\n",
       "dateutil                    2.8.2\n",
       "debugpy                     1.5.1\n",
       "decorator                   5.1.1\n",
       "defusedxml                  0.7.1\n",
       "entrypoints                 0.4\n",
       "executing                   0.8.3\n",
       "google                      NA\n",
       "hypergeom_ufunc             NA\n",
       "invgauss_ufunc              NA\n",
       "ipykernel                   6.19.2\n",
       "ipython_genutils            0.2.0\n",
       "jedi                        0.18.1\n",
       "joblib                      1.1.1\n",
       "jupyter_server              1.23.4\n",
       "kiwisolver                  1.4.4\n",
       "mkl                         2.4.0\n",
       "mpl_toolkits                NA\n",
       "nbinom_ufunc                NA\n",
       "ncf_ufunc                   NA\n",
       "nct_ufunc                   NA\n",
       "ncx2_ufunc                  NA\n",
       "nt                          NA\n",
       "ntsecuritycon               NA\n",
       "numexpr                     2.8.4\n",
       "packaging                   23.0\n",
       "parso                       0.8.3\n",
       "patsy                       0.5.3\n",
       "pickleshare                 0.7.5\n",
       "pkg_resources               NA\n",
       "platformdirs                2.5.2\n",
       "prompt_toolkit              3.0.36\n",
       "psutil                      5.9.0\n",
       "pure_eval                   0.2.2\n",
       "pyarrow                     11.0.0\n",
       "pydev_ipython               NA\n",
       "pydevconsole                NA\n",
       "pydevd                      2.6.0\n",
       "pydevd_concurrency_analyser NA\n",
       "pydevd_file_utils           NA\n",
       "pydevd_plugins              NA\n",
       "pydevd_tracing              NA\n",
       "pygments                    2.15.1\n",
       "pyparsing                   3.0.9\n",
       "pytz                        2022.7\n",
       "scipy                       1.10.1\n",
       "setuptools                  68.0.0\n",
       "six                         1.16.0\n",
       "skewnorm_ufunc              NA\n",
       "sphinxcontrib               NA\n",
       "stack_data                  0.2.0\n",
       "threadpoolctl               2.2.0\n",
       "tornado                     6.2\n",
       "traitlets                   5.7.1\n",
       "typing_extensions           NA\n",
       "wcwidth                     0.2.5\n",
       "win32api                    NA\n",
       "win32security               NA\n",
       "zmq                         23.2.0\n",
       "zoneinfo                    NA\n",
       "zope                        NA\n",
       "</pre>\n",
       "</details> <!-- seems like this ends pre, so might as well be explicit -->\n",
       "<pre>\n",
       "-----\n",
       "IPython             8.12.0\n",
       "jupyter_client      7.4.9\n",
       "jupyter_core        5.3.0\n",
       "jupyterlab          3.5.3\n",
       "notebook            6.5.4\n",
       "-----\n",
       "Python 3.10.11 | packaged by Anaconda, Inc. | (main, Apr 20 2023, 18:56:50) [MSC v.1916 64 bit (AMD64)]\n",
       "Windows-10-10.0.22000-SP0\n",
       "-----\n",
       "Session information updated at 2023-08-25 10:32\n",
       "</pre>\n",
       "</details>"
      ],
      "text/plain": [
       "<IPython.core.display.HTML object>"
      ]
     },
     "execution_count": 2,
     "metadata": {},
     "output_type": "execute_result"
    }
   ],
   "source": [
    "# display package informatin\n",
    "# !conda install -c conda-forge session-info\n",
    "import session_info\n",
    "session_info.show()"
   ]
  },
  {
   "cell_type": "markdown",
   "id": "4bdd8d6b-ae54-431a-b3e5-096177db2910",
   "metadata": {},
   "source": [
    "### Read Dataset"
   ]
  },
  {
   "cell_type": "code",
   "execution_count": null,
   "id": "49b59f72-38f4-409b-a44c-230f4b34ec13",
   "metadata": {},
   "outputs": [],
   "source": [
    "# Read data\n",
    "restaurant_df = pd.read_csv('./data/combined_date.csv')"
   ]
  },
  {
   "cell_type": "markdown",
   "id": "e0109921-7ff2-4f3a-8fa1-9f1db426e0e3",
   "metadata": {},
   "source": [
    "### Business Description fix\n",
    "'Preparation of Food and Dining on Premise With Seating' => food_prep_onsite_seating  / food_prep_onsite_noseating\n",
    "'Sale of Food Prepared Onsite With Dining Area' / 'Sale of Food Prepared Onsite Without Dining Area' => onsite_food_prep_wDining\n",
    "'Retail Sales of Perishable Foods' => perishable_food / nonperishable_food\n",
    "'Consumption of Liquor on Premises' => liquor_served\n"
   ]
  },
  {
   "cell_type": "code",
   "execution_count": null,
   "id": "30a950ea",
   "metadata": {},
   "outputs": [],
   "source": [
    "import geoapify\n",
    "\n",
    "# reverse geocode - provide lat/long\n",
    "# Get: name, suburb, result_type, postcode, rank[popularity], place_id   \n",
    "# Not needed use details\n",
    "\n",
    "# Details provide place_id\n",
    "# Get: categories, amenity, cuisine, addr:\n",
    "\n",
    "# places provide address and radius and category or name (could search for dunkin donuts, starbucks**)\n",
    "# Get nearby restaurants (type), wheel chair accessible, dogs allowed,"
   ]
  },
  {
   "cell_type": "code",
   "execution_count": null,
   "id": "24bfcf2d",
   "metadata": {},
   "outputs": [],
   "source": [
    "#Geoapify - 3000 queries per day\n",
    "API_KEY = 'dlajfl;sjdfsa'\n",
    "REQUEST_PARAMS = f''\n",
    "AUTHENTICATION = f'&format=json&apiKey={API_KEY}'\n",
    "lat,long = (1,1)\n",
    "street = f'street={Bon%20Air%20Road}'\n",
    "name = f'name={Marin%20General%20Hospita}'  \n",
    "# not reeded since have address, business, and lat/lon\n",
    "reverse_geocode_url = f'https://api.geoapify.com/v1/geocode/reverse?lat={lat}&lon={lon}{AUTHENTICATION}'\n",
    "# get business info\n",
    "places_url = f'https://api.geoapify.com/v1/geocode/search?{REQUEST_PARAMS}{AUTHENTICATION}'\n",
    "\n",
    "# 20 places per credit or 60,000\n",
    "nearby_places_url = f'https://api.geoapify.com/v2/places?categories=public_transport.subway&filter=circle:-0.07071648508463113,51.50848194136378,1000&bias=proximity:-0.07071648508463113,51.50848194136378&limit=20&apiKey=YOUR_API_KEY'\n"
   ]
  },
  {
   "cell_type": "code",
   "execution_count": null,
   "id": "9fe8a563-2c81-4daa-a9cf-3c87ec5e0668",
   "metadata": {
    "tags": []
   },
   "outputs": [],
   "source": []
  }
 ],
 "metadata": {
  "kernelspec": {
   "display_name": "python310",
   "language": "python",
   "name": "python3"
  },
  "language_info": {
   "codemirror_mode": {
    "name": "ipython",
    "version": 3
   },
   "file_extension": ".py",
   "mimetype": "text/x-python",
   "name": "python",
   "nbconvert_exporter": "python",
   "pygments_lexer": "ipython3",
   "version": "3.10.11"
  }
 },
 "nbformat": 4,
 "nbformat_minor": 5
}
