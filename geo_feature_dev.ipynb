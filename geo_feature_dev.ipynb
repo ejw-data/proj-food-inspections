{
 "cells": [
  {
   "cell_type": "markdown",
   "id": "12e7725c-2c7a-439e-9f43-bdee30b7132f",
   "metadata": {},
   "source": [
    "## Geoampify Feature Extraction"
   ]
  },
  {
   "cell_type": "code",
   "execution_count": null,
   "id": "08f803ee-2d36-474c-830c-8b0a66aeca6a",
   "metadata": {},
   "outputs": [],
   "source": [
    "# # Code formatter\n",
    "# # !pip3 install nb_black\n",
    "# %load_ext nb_black"
   ]
  },
  {
   "cell_type": "code",
   "execution_count": 1,
   "id": "7f70d422-5779-4b15-a969-701681bbde3e",
   "metadata": {},
   "outputs": [],
   "source": [
    "# Import required libraries\n",
    "\n",
    "# eda tools\n",
    "import numpy as np\n",
    "import pandas as pd\n",
    "\n",
    "# api tools\n",
    "import requests\n",
    "import json\n",
    "\n",
    "# Import the API key\n",
    "from config import geoapify_key\n",
    "\n",
    "# visualization dependencies\n",
    "import matplotlib.pyplot as plt  \n",
    "\n",
    "# hide jupyter lab warnings\n",
    "import warnings\n",
    "warnings.filterwarnings('ignore')\n",
    "\n",
    "# expand the number of dataframe columns visible\n",
    "pd.options.display.max_columns = 100\n",
    "\n",
    "# make sound when this code executes: Audio(sound_file, autoplay=True)\n",
    "from IPython.display import Audio\n",
    "sound_file = './sound/chord.wav'\n"
   ]
  },
  {
   "cell_type": "code",
   "execution_count": 2,
   "id": "db7170a4-fc21-47ad-92c1-c5b8ef144f61",
   "metadata": {},
   "outputs": [
    {
     "data": {
      "text/html": [
       "<details>\n",
       "<summary>Click to view session information</summary>\n",
       "<pre>\n",
       "-----\n",
       "matplotlib          3.7.1\n",
       "numpy               1.23.5\n",
       "pandas              1.5.3\n",
       "session_info        1.0.0\n",
       "-----\n",
       "</pre>\n",
       "<details>\n",
       "<summary>Click to view modules imported as dependencies</summary>\n",
       "<pre>\n",
       "PIL                 9.5.0\n",
       "asttokens           NA\n",
       "backcall            0.2.0\n",
       "cffi                1.15.1\n",
       "colorama            0.4.6\n",
       "comm                0.1.3\n",
       "cycler              0.10.0\n",
       "cython_runtime      NA\n",
       "dateutil            2.8.2\n",
       "debugpy             1.6.7\n",
       "decorator           5.1.1\n",
       "defusedxml          0.7.1\n",
       "executing           1.2.0\n",
       "google              NA\n",
       "ipykernel           6.22.0\n",
       "ipython_genutils    0.2.0\n",
       "jedi                0.18.2\n",
       "jupyter_server      2.5.0\n",
       "kiwisolver          1.4.4\n",
       "mpl_toolkits        NA\n",
       "nt                  NA\n",
       "ntsecuritycon       NA\n",
       "packaging           23.0\n",
       "parso               0.8.3\n",
       "pickleshare         0.7.5\n",
       "pkg_resources       NA\n",
       "platformdirs        3.2.0\n",
       "prompt_toolkit      3.0.38\n",
       "psutil              5.9.4\n",
       "pure_eval           0.2.2\n",
       "pydev_ipython       NA\n",
       "pydevconsole        NA\n",
       "pydevd              2.9.5\n",
       "pydevd_file_utils   NA\n",
       "pydevd_plugins      NA\n",
       "pydevd_tracing      NA\n",
       "pygments            2.14.0\n",
       "pyparsing           3.0.9\n",
       "pytz                2023.3\n",
       "six                 1.16.0\n",
       "stack_data          0.6.2\n",
       "tornado             6.2\n",
       "traitlets           5.9.0\n",
       "wcwidth             0.2.6\n",
       "win32api            NA\n",
       "win32security       NA\n",
       "zmq                 25.0.2\n",
       "zoneinfo            NA\n",
       "</pre>\n",
       "</details> <!-- seems like this ends pre, so might as well be explicit -->\n",
       "<pre>\n",
       "-----\n",
       "IPython             8.12.0\n",
       "jupyter_client      8.1.0\n",
       "jupyter_core        5.3.0\n",
       "jupyterlab          3.5.3\n",
       "notebook            6.5.4\n",
       "-----\n",
       "Python 3.10.10 | packaged by conda-forge | (main, Mar 24 2023, 20:00:38) [MSC v.1934 64 bit (AMD64)]\n",
       "Windows-10-10.0.22000-SP0\n",
       "-----\n",
       "Session information updated at 2023-08-29 10:59\n",
       "</pre>\n",
       "</details>"
      ],
      "text/plain": [
       "<IPython.core.display.HTML object>"
      ]
     },
     "execution_count": 2,
     "metadata": {},
     "output_type": "execute_result"
    }
   ],
   "source": [
    "# display package informatin\n",
    "# !conda install -c conda-forge session-info\n",
    "import session_info\n",
    "session_info.show()"
   ]
  },
  {
   "cell_type": "markdown",
   "id": "4bdd8d6b-ae54-431a-b3e5-096177db2910",
   "metadata": {},
   "source": [
    "### Read Dataset"
   ]
  },
  {
   "cell_type": "code",
   "execution_count": 3,
   "id": "49b59f72-38f4-409b-a44c-230f4b34ec13",
   "metadata": {},
   "outputs": [
    {
     "data": {
      "text/html": [
       "<div>\n",
       "<style scoped>\n",
       "    .dataframe tbody tr th:only-of-type {\n",
       "        vertical-align: middle;\n",
       "    }\n",
       "\n",
       "    .dataframe tbody tr th {\n",
       "        vertical-align: top;\n",
       "    }\n",
       "\n",
       "    .dataframe thead th {\n",
       "        text-align: right;\n",
       "    }\n",
       "</style>\n",
       "<table border=\"1\" class=\"dataframe\">\n",
       "  <thead>\n",
       "    <tr style=\"text-align: right;\">\n",
       "      <th></th>\n",
       "      <th>lat</th>\n",
       "      <th>lon</th>\n",
       "      <th>geometry</th>\n",
       "    </tr>\n",
       "  </thead>\n",
       "  <tbody>\n",
       "    <tr>\n",
       "      <th>0</th>\n",
       "      <td>-87.640611</td>\n",
       "      <td>41.661182</td>\n",
       "      <td>POINT (-87.64061065791103 41.66118220092816)</td>\n",
       "    </tr>\n",
       "    <tr>\n",
       "      <th>1</th>\n",
       "      <td>-87.607332</td>\n",
       "      <td>41.661182</td>\n",
       "      <td>POINT (-87.60733249962075 41.66118220092816)</td>\n",
       "    </tr>\n",
       "    <tr>\n",
       "      <th>2</th>\n",
       "      <td>-87.590693</td>\n",
       "      <td>41.661182</td>\n",
       "      <td>POINT (-87.59069342047562 41.66118220092816)</td>\n",
       "    </tr>\n",
       "    <tr>\n",
       "      <th>3</th>\n",
       "      <td>-87.574054</td>\n",
       "      <td>41.661182</td>\n",
       "      <td>POINT (-87.57405434133048 41.66118220092816)</td>\n",
       "    </tr>\n",
       "    <tr>\n",
       "      <th>4</th>\n",
       "      <td>-87.557415</td>\n",
       "      <td>41.661182</td>\n",
       "      <td>POINT (-87.55741526218534 41.66118220092816)</td>\n",
       "    </tr>\n",
       "  </tbody>\n",
       "</table>\n",
       "</div>"
      ],
      "text/plain": [
       "         lat        lon                                      geometry\n",
       "0 -87.640611  41.661182  POINT (-87.64061065791103 41.66118220092816)\n",
       "1 -87.607332  41.661182  POINT (-87.60733249962075 41.66118220092816)\n",
       "2 -87.590693  41.661182  POINT (-87.59069342047562 41.66118220092816)\n",
       "3 -87.574054  41.661182  POINT (-87.57405434133048 41.66118220092816)\n",
       "4 -87.557415  41.661182  POINT (-87.55741526218534 41.66118220092816)"
      ]
     },
     "execution_count": 3,
     "metadata": {},
     "output_type": "execute_result"
    }
   ],
   "source": [
    "# Read data\n",
    "restaurant_df = pd.read_csv('./data/manipulated/combined_data.csv')\n",
    "grid_layout = pd.read_csv('./data/manipulated/chicago_point_grid.csv')\n",
    "\n",
    "# View key file\n",
    "grid_layout.head()"
   ]
  },
  {
   "cell_type": "markdown",
   "id": "e0109921-7ff2-4f3a-8fa1-9f1db426e0e3",
   "metadata": {},
   "source": [
    "### Business Description fix\n",
    "'Preparation of Food and Dining on Premise With Seating' => food_prep_onsite_seating  / food_prep_onsite_noseating\n",
    "'Sale of Food Prepared Onsite With Dining Area' / 'Sale of Food Prepared Onsite Without Dining Area' => onsite_food_prep_wDining\n",
    "'Retail Sales of Perishable Foods' => perishable_food / nonperishable_food\n",
    "'Consumption of Liquor on Premises' => liquor_served\n"
   ]
  },
  {
   "cell_type": "code",
   "execution_count": 5,
   "id": "30a950ea",
   "metadata": {},
   "outputs": [],
   "source": [
    "# reverse geocode - provide lat/long\n",
    "# Get: name, suburb, result_type, postcode, rank[popularity], place_id   \n",
    "# Not needed use details\n",
    "\n",
    "# Details provide place_id\n",
    "# Get: categories, amenity, cuisine, addr:\n",
    "\n",
    "# places provide address and radius and category or name (could search for dunkin donuts, starbucks**)\n",
    "# Get nearby restaurants (type), wheel chair accessible, dogs allowed,"
   ]
  },
  {
   "cell_type": "code",
   "execution_count": 2,
   "id": "24bfcf2d",
   "metadata": {},
   "outputs": [
    {
     "ename": "SyntaxError",
     "evalue": "expected ':' (3818535821.py, line 4)",
     "output_type": "error",
     "traceback": [
      "\u001b[1;36m  Cell \u001b[1;32mIn[2], line 4\u001b[1;36m\u001b[0m\n\u001b[1;33m    for i in gridlayout.iterrrows()\u001b[0m\n\u001b[1;37m                                   ^\u001b[0m\n\u001b[1;31mSyntaxError\u001b[0m\u001b[1;31m:\u001b[0m expected ':'\n"
     ]
    }
   ],
   "source": [
    "#Geoapify - 3000 queries per day\n",
    "# AUTHENTICATION = f'&format=json&apiKey={geoapify_key}'\n",
    "\n",
    "all_data = []\n",
    "for i in gridlayout.iterrrows():\n",
    "    lat,long = (i[0],i[1])\n",
    "    categories = \"catering.restaurant\"\n",
    "    radius = 8000\n",
    "\n",
    "    filters = f\"circle: {long}, {lat}, {radius}\"\n",
    "    bias = f\"proximity:{long}, {lat}\"\n",
    "    limit = 20\n",
    "\n",
    "    REQUEST_PARAMS = {\n",
    "        \"categories\":categories,\n",
    "        \"conditions\":conditions,\n",
    "        \"limit\":limit,\n",
    "        \"filter\":filters,\n",
    "        \"bias\":bias,\n",
    "        \"apiKey\":geoapify_key    \n",
    "    }\n",
    "\n",
    "    # get business info\n",
    "    places_url = f'https://api.geoapify.com/v2/places/search?{REQUEST_PARAMS}'\n",
    "\n",
    "    geo_data = requests.get(places_url).json()\n",
    "\n",
    "    # Print the json (pretty printed)\n",
    "    print(json.dumps(geo_data, indent=4, sort_keys=True))\n",
    "    all_data.append(geo_data)"
   ]
  },
  {
   "cell_type": "code",
   "execution_count": null,
   "id": "9fe8a563-2c81-4daa-a9cf-3c87ec5e0668",
   "metadata": {
    "tags": []
   },
   "outputs": [],
   "source": []
  },
  {
   "cell_type": "code",
   "execution_count": null,
   "id": "5b1de8f4",
   "metadata": {},
   "outputs": [],
   "source": []
  }
 ],
 "metadata": {
  "kernelspec": {
   "display_name": "python310",
   "language": "python",
   "name": "python3"
  },
  "language_info": {
   "codemirror_mode": {
    "name": "ipython",
    "version": 3
   },
   "file_extension": ".py",
   "mimetype": "text/x-python",
   "name": "python",
   "nbconvert_exporter": "python",
   "pygments_lexer": "ipython3",
   "version": "3.10.11"
  }
 },
 "nbformat": 4,
 "nbformat_minor": 5
}
