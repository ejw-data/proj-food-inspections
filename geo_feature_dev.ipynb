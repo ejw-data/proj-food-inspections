{
 "cells": [
  {
   "cell_type": "markdown",
   "id": "12e7725c-2c7a-439e-9f43-bdee30b7132f",
   "metadata": {},
   "source": [
    "## Geoampify Feature Extraction"
   ]
  },
  {
   "cell_type": "code",
   "execution_count": null,
   "id": "08f803ee-2d36-474c-830c-8b0a66aeca6a",
   "metadata": {},
   "outputs": [],
   "source": [
    "# # Code formatter\n",
    "# # !pip3 install nb_black\n",
    "# %load_ext nb_black"
   ]
  },
  {
   "cell_type": "code",
   "execution_count": 1,
   "id": "7f70d422-5779-4b15-a969-701681bbde3e",
   "metadata": {},
   "outputs": [],
   "source": [
    "# Import required libraries\n",
    "\n",
    "# eda tools\n",
    "import pandas as pd\n",
    "pd.options.display.max_columns = 100\n",
    "\n",
    "# api tools\n",
    "import requests\n",
    "import json\n",
    "\n",
    "# Import the API key\n",
    "from config import geoapify_key\n",
    "\n",
    "# hide jupyter lab warnings\n",
    "import warnings\n",
    "warnings.filterwarnings('ignore')\n",
    "\n",
    "\n",
    "# make sound when this code executes: Audio(sound_file, autoplay=True)\n",
    "from IPython.display import Audio\n",
    "sound_file = './sound/chord.wav'\n"
   ]
  },
  {
   "cell_type": "code",
   "execution_count": 2,
   "id": "db7170a4-fc21-47ad-92c1-c5b8ef144f61",
   "metadata": {},
   "outputs": [
    {
     "data": {
      "text/html": [
       "<details>\n",
       "<summary>Click to view session information</summary>\n",
       "<pre>\n",
       "-----\n",
       "pandas              1.5.3\n",
       "requests            2.29.0\n",
       "session_info        1.0.0\n",
       "-----\n",
       "</pre>\n",
       "<details>\n",
       "<summary>Click to view modules imported as dependencies</summary>\n",
       "<pre>\n",
       "asttokens                   NA\n",
       "backcall                    0.2.0\n",
       "bottleneck                  1.3.5\n",
       "brotli                      NA\n",
       "certifi                     2023.07.22\n",
       "chardet                     4.0.0\n",
       "charset_normalizer          2.0.4\n",
       "cloudpickle                 2.2.1\n",
       "colorama                    0.4.6\n",
       "comm                        0.1.2\n",
       "config                      NA\n",
       "cython_runtime              NA\n",
       "dateutil                    2.8.2\n",
       "debugpy                     1.5.1\n",
       "decorator                   5.1.1\n",
       "entrypoints                 0.4\n",
       "executing                   0.8.3\n",
       "google                      NA\n",
       "idna                        3.4\n",
       "ipykernel                   6.19.2\n",
       "ipython_genutils            0.2.0\n",
       "ipywidgets                  8.0.4\n",
       "jedi                        0.18.1\n",
       "jupyter_server              1.23.4\n",
       "mkl                         2.4.0\n",
       "mpl_toolkits                NA\n",
       "nt                          NA\n",
       "ntsecuritycon               NA\n",
       "numexpr                     2.8.4\n",
       "numpy                       1.23.5\n",
       "packaging                   23.0\n",
       "parso                       0.8.3\n",
       "pickleshare                 0.7.5\n",
       "pkg_resources               NA\n",
       "platformdirs                2.5.2\n",
       "prompt_toolkit              3.0.36\n",
       "psutil                      5.9.0\n",
       "pure_eval                   0.2.2\n",
       "pyarrow                     11.0.0\n",
       "pydev_ipython               NA\n",
       "pydevconsole                NA\n",
       "pydevd                      2.6.0\n",
       "pydevd_concurrency_analyser NA\n",
       "pydevd_file_utils           NA\n",
       "pydevd_plugins              NA\n",
       "pydevd_tracing              NA\n",
       "pygments                    2.15.1\n",
       "pytz                        2022.7\n",
       "six                         1.16.0\n",
       "socks                       1.7.1\n",
       "sphinxcontrib               NA\n",
       "stack_data                  0.2.0\n",
       "tornado                     6.2\n",
       "traitlets                   5.7.1\n",
       "typing_extensions           NA\n",
       "urllib3                     1.26.15\n",
       "wcwidth                     0.2.5\n",
       "win32api                    NA\n",
       "win32security               NA\n",
       "zmq                         23.2.0\n",
       "zoneinfo                    NA\n",
       "zope                        NA\n",
       "</pre>\n",
       "</details> <!-- seems like this ends pre, so might as well be explicit -->\n",
       "<pre>\n",
       "-----\n",
       "IPython             8.12.0\n",
       "jupyter_client      7.4.9\n",
       "jupyter_core        5.3.0\n",
       "jupyterlab          3.5.3\n",
       "notebook            6.5.4\n",
       "-----\n",
       "Python 3.10.11 | packaged by Anaconda, Inc. | (main, Apr 20 2023, 18:56:50) [MSC v.1916 64 bit (AMD64)]\n",
       "Windows-10-10.0.22000-SP0\n",
       "-----\n",
       "Session information updated at 2023-08-29 15:55\n",
       "</pre>\n",
       "</details>"
      ],
      "text/plain": [
       "<IPython.core.display.HTML object>"
      ]
     },
     "execution_count": 2,
     "metadata": {},
     "output_type": "execute_result"
    }
   ],
   "source": [
    "# display package informatin\n",
    "# !conda install -c conda-forge session-info\n",
    "import session_info\n",
    "session_info.show()"
   ]
  },
  {
   "cell_type": "markdown",
   "id": "4bdd8d6b-ae54-431a-b3e5-096177db2910",
   "metadata": {},
   "source": [
    "### Read Dataset"
   ]
  },
  {
   "cell_type": "code",
   "execution_count": 3,
   "id": "2e9e9e9b",
   "metadata": {},
   "outputs": [
    {
     "data": {
      "text/plain": [
       "'89e77e8eb6fa4e2b930e7419dcbe0de0'"
      ]
     },
     "execution_count": 3,
     "metadata": {},
     "output_type": "execute_result"
    }
   ],
   "source": [
    "geoapify_key"
   ]
  },
  {
   "cell_type": "code",
   "execution_count": 4,
   "id": "49b59f72-38f4-409b-a44c-230f4b34ec13",
   "metadata": {},
   "outputs": [
    {
     "data": {
      "text/html": [
       "<div>\n",
       "<style scoped>\n",
       "    .dataframe tbody tr th:only-of-type {\n",
       "        vertical-align: middle;\n",
       "    }\n",
       "\n",
       "    .dataframe tbody tr th {\n",
       "        vertical-align: top;\n",
       "    }\n",
       "\n",
       "    .dataframe thead th {\n",
       "        text-align: right;\n",
       "    }\n",
       "</style>\n",
       "<table border=\"1\" class=\"dataframe\">\n",
       "  <thead>\n",
       "    <tr style=\"text-align: right;\">\n",
       "      <th></th>\n",
       "      <th>lat</th>\n",
       "      <th>lon</th>\n",
       "      <th>geometry</th>\n",
       "    </tr>\n",
       "  </thead>\n",
       "  <tbody>\n",
       "    <tr>\n",
       "      <th>0</th>\n",
       "      <td>-87.640611</td>\n",
       "      <td>41.661182</td>\n",
       "      <td>POINT (-87.64061065791103 41.66118220092816)</td>\n",
       "    </tr>\n",
       "    <tr>\n",
       "      <th>1</th>\n",
       "      <td>-87.607332</td>\n",
       "      <td>41.661182</td>\n",
       "      <td>POINT (-87.60733249962075 41.66118220092816)</td>\n",
       "    </tr>\n",
       "    <tr>\n",
       "      <th>2</th>\n",
       "      <td>-87.590693</td>\n",
       "      <td>41.661182</td>\n",
       "      <td>POINT (-87.59069342047562 41.66118220092816)</td>\n",
       "    </tr>\n",
       "    <tr>\n",
       "      <th>3</th>\n",
       "      <td>-87.574054</td>\n",
       "      <td>41.661182</td>\n",
       "      <td>POINT (-87.57405434133048 41.66118220092816)</td>\n",
       "    </tr>\n",
       "    <tr>\n",
       "      <th>4</th>\n",
       "      <td>-87.557415</td>\n",
       "      <td>41.661182</td>\n",
       "      <td>POINT (-87.55741526218534 41.66118220092816)</td>\n",
       "    </tr>\n",
       "  </tbody>\n",
       "</table>\n",
       "</div>"
      ],
      "text/plain": [
       "         lat        lon                                      geometry\n",
       "0 -87.640611  41.661182  POINT (-87.64061065791103 41.66118220092816)\n",
       "1 -87.607332  41.661182  POINT (-87.60733249962075 41.66118220092816)\n",
       "2 -87.590693  41.661182  POINT (-87.59069342047562 41.66118220092816)\n",
       "3 -87.574054  41.661182  POINT (-87.57405434133048 41.66118220092816)\n",
       "4 -87.557415  41.661182  POINT (-87.55741526218534 41.66118220092816)"
      ]
     },
     "execution_count": 4,
     "metadata": {},
     "output_type": "execute_result"
    }
   ],
   "source": [
    "# Read data\n",
    "restaurant_df = pd.read_csv('./data/manipulated/combined_data.csv')\n",
    "grid_layout = pd.read_csv('./data/manipulated/chicago_point_grid.csv')\n",
    "\n",
    "# View key file\n",
    "grid_layout.head()"
   ]
  },
  {
   "cell_type": "markdown",
   "id": "e0109921-7ff2-4f3a-8fa1-9f1db426e0e3",
   "metadata": {},
   "source": [
    "### Business Description fix\n",
    "'Preparation of Food and Dining on Premise With Seating' => food_prep_onsite_seating  / food_prep_onsite_noseating\n",
    "'Sale of Food Prepared Onsite With Dining Area' / 'Sale of Food Prepared Onsite Without Dining Area' => onsite_food_prep_wDining\n",
    "'Retail Sales of Perishable Foods' => perishable_food / nonperishable_food\n",
    "'Consumption of Liquor on Premises' => liquor_served\n"
   ]
  },
  {
   "cell_type": "code",
   "execution_count": 5,
   "id": "30a950ea",
   "metadata": {},
   "outputs": [],
   "source": [
    "# reverse geocode - provide lat/long\n",
    "# Get: name, suburb, result_type, postcode, rank[popularity], place_id   \n",
    "# Not needed use details\n",
    "\n",
    "# Details provide place_id\n",
    "# Get: categories, amenity, cuisine, addr:\n",
    "\n",
    "# places provide address and radius and category or name (could search for dunkin donuts, starbucks**)\n",
    "# Get nearby restaurants (type), wheel chair accessible, dogs allowed,"
   ]
  },
  {
   "cell_type": "code",
   "execution_count": 47,
   "id": "24bfcf2d",
   "metadata": {},
   "outputs": [
    {
     "ename": "InvalidIndexError",
     "evalue": "(slice(0, 1, None), slice(None, None, None))",
     "output_type": "error",
     "traceback": [
      "\u001b[1;31m---------------------------------------------------------------------------\u001b[0m",
      "\u001b[1;31mTypeError\u001b[0m                                 Traceback (most recent call last)",
      "File \u001b[1;32mc:\\Users\\ejwda\\Anaconda3\\envs\\python310\\lib\\site-packages\\pandas\\core\\indexes\\base.py:3802\u001b[0m, in \u001b[0;36mIndex.get_loc\u001b[1;34m(self, key, method, tolerance)\u001b[0m\n\u001b[0;32m   3801\u001b[0m \u001b[39mtry\u001b[39;00m:\n\u001b[1;32m-> 3802\u001b[0m     \u001b[39mreturn\u001b[39;00m \u001b[39mself\u001b[39;49m\u001b[39m.\u001b[39;49m_engine\u001b[39m.\u001b[39;49mget_loc(casted_key)\n\u001b[0;32m   3803\u001b[0m \u001b[39mexcept\u001b[39;00m \u001b[39mKeyError\u001b[39;00m \u001b[39mas\u001b[39;00m err:\n",
      "File \u001b[1;32mc:\\Users\\ejwda\\Anaconda3\\envs\\python310\\lib\\site-packages\\pandas\\_libs\\index.pyx:138\u001b[0m, in \u001b[0;36mpandas._libs.index.IndexEngine.get_loc\u001b[1;34m()\u001b[0m\n",
      "File \u001b[1;32mc:\\Users\\ejwda\\Anaconda3\\envs\\python310\\lib\\site-packages\\pandas\\_libs\\index.pyx:144\u001b[0m, in \u001b[0;36mpandas._libs.index.IndexEngine.get_loc\u001b[1;34m()\u001b[0m\n",
      "\u001b[1;31mTypeError\u001b[0m: '(slice(0, 1, None), slice(None, None, None))' is an invalid key",
      "\nDuring handling of the above exception, another exception occurred:\n",
      "\u001b[1;31mInvalidIndexError\u001b[0m                         Traceback (most recent call last)",
      "Cell \u001b[1;32mIn[47], line 5\u001b[0m\n\u001b[0;32m      1\u001b[0m \u001b[39m#Geoapify - 3000 queries per day\u001b[39;00m\n\u001b[0;32m      2\u001b[0m \u001b[39m# AUTHENTICATION = f'&format=json&apiKey={geoapify_key}'\u001b[39;00m\n\u001b[0;32m      4\u001b[0m all2_data \u001b[39m=\u001b[39m []\n\u001b[1;32m----> 5\u001b[0m \u001b[39mfor\u001b[39;00m i \u001b[39min\u001b[39;00m grid_layout[\u001b[39m0\u001b[39;49m:\u001b[39m1\u001b[39;49m,:]\u001b[39m.\u001b[39miterrows():\n\u001b[0;32m      6\u001b[0m \n\u001b[0;32m      7\u001b[0m     \u001b[39m# query parameters\u001b[39;00m\n\u001b[0;32m      8\u001b[0m     long,lat \u001b[39m=\u001b[39m i[\u001b[39m1\u001b[39m]\u001b[39m.\u001b[39mlat,i[\u001b[39m1\u001b[39m]\u001b[39m.\u001b[39mlon\n\u001b[0;32m      9\u001b[0m     categories \u001b[39m=\u001b[39m \u001b[39m\"\u001b[39m\u001b[39mcatering.restaurant\u001b[39m\u001b[39m\"\u001b[39m\n",
      "File \u001b[1;32mc:\\Users\\ejwda\\Anaconda3\\envs\\python310\\lib\\site-packages\\pandas\\core\\frame.py:3807\u001b[0m, in \u001b[0;36mDataFrame.__getitem__\u001b[1;34m(self, key)\u001b[0m\n\u001b[0;32m   3805\u001b[0m \u001b[39mif\u001b[39;00m \u001b[39mself\u001b[39m\u001b[39m.\u001b[39mcolumns\u001b[39m.\u001b[39mnlevels \u001b[39m>\u001b[39m \u001b[39m1\u001b[39m:\n\u001b[0;32m   3806\u001b[0m     \u001b[39mreturn\u001b[39;00m \u001b[39mself\u001b[39m\u001b[39m.\u001b[39m_getitem_multilevel(key)\n\u001b[1;32m-> 3807\u001b[0m indexer \u001b[39m=\u001b[39m \u001b[39mself\u001b[39;49m\u001b[39m.\u001b[39;49mcolumns\u001b[39m.\u001b[39;49mget_loc(key)\n\u001b[0;32m   3808\u001b[0m \u001b[39mif\u001b[39;00m is_integer(indexer):\n\u001b[0;32m   3809\u001b[0m     indexer \u001b[39m=\u001b[39m [indexer]\n",
      "File \u001b[1;32mc:\\Users\\ejwda\\Anaconda3\\envs\\python310\\lib\\site-packages\\pandas\\core\\indexes\\base.py:3809\u001b[0m, in \u001b[0;36mIndex.get_loc\u001b[1;34m(self, key, method, tolerance)\u001b[0m\n\u001b[0;32m   3804\u001b[0m         \u001b[39mraise\u001b[39;00m \u001b[39mKeyError\u001b[39;00m(key) \u001b[39mfrom\u001b[39;00m \u001b[39merr\u001b[39;00m\n\u001b[0;32m   3805\u001b[0m     \u001b[39mexcept\u001b[39;00m \u001b[39mTypeError\u001b[39;00m:\n\u001b[0;32m   3806\u001b[0m         \u001b[39m# If we have a listlike key, _check_indexing_error will raise\u001b[39;00m\n\u001b[0;32m   3807\u001b[0m         \u001b[39m#  InvalidIndexError. Otherwise we fall through and re-raise\u001b[39;00m\n\u001b[0;32m   3808\u001b[0m         \u001b[39m#  the TypeError.\u001b[39;00m\n\u001b[1;32m-> 3809\u001b[0m         \u001b[39mself\u001b[39;49m\u001b[39m.\u001b[39;49m_check_indexing_error(key)\n\u001b[0;32m   3810\u001b[0m         \u001b[39mraise\u001b[39;00m\n\u001b[0;32m   3812\u001b[0m \u001b[39m# GH#42269\u001b[39;00m\n",
      "File \u001b[1;32mc:\\Users\\ejwda\\Anaconda3\\envs\\python310\\lib\\site-packages\\pandas\\core\\indexes\\base.py:5925\u001b[0m, in \u001b[0;36mIndex._check_indexing_error\u001b[1;34m(self, key)\u001b[0m\n\u001b[0;32m   5921\u001b[0m \u001b[39mdef\u001b[39;00m \u001b[39m_check_indexing_error\u001b[39m(\u001b[39mself\u001b[39m, key):\n\u001b[0;32m   5922\u001b[0m     \u001b[39mif\u001b[39;00m \u001b[39mnot\u001b[39;00m is_scalar(key):\n\u001b[0;32m   5923\u001b[0m         \u001b[39m# if key is not a scalar, directly raise an error (the code below\u001b[39;00m\n\u001b[0;32m   5924\u001b[0m         \u001b[39m# would convert to numpy arrays and raise later any way) - GH29926\u001b[39;00m\n\u001b[1;32m-> 5925\u001b[0m         \u001b[39mraise\u001b[39;00m InvalidIndexError(key)\n",
      "\u001b[1;31mInvalidIndexError\u001b[0m: (slice(0, 1, None), slice(None, None, None))"
     ]
    }
   ],
   "source": [
    "#Geoapify - 3000 queries per day\n",
    "# AUTHENTICATION = f'&format=json&apiKey={geoapify_key}'\n",
    "\n",
    "all_data = []\n",
    "for i in grid_layout.iterrows():\n",
    "\n",
    "    # query parameters\n",
    "    long,lat = i[1].lat,i[1].lon\n",
    "    categories = \"catering.restaurant\"\n",
    "    radius = 1200\n",
    "    filters = f\"circle:{long},{lat},{radius}\"\n",
    "    bias = f\"proximity:{long},{lat}\"\n",
    "    limit = 200\n",
    "\n",
    "    REQUEST_PARAMS = {\n",
    "        \"categories\":categories,\n",
    "        \"limit\":limit,\n",
    "        \"filter\":filters,\n",
    "        \"bias\":bias,\n",
    "        \"apiKey\":geoapify_key    \n",
    "    }\n",
    "\n",
    "    # get business info - should I use places-details ??\n",
    "    places_url = f'https://api.geoapify.com/v2/places'\n",
    "\n",
    "    geo_data = requests.get(places_url, params=REQUEST_PARAMS).json()\n",
    "\n",
    "    # Print the json (pretty printed)\n",
    "    # print(json.dumps(geo_data, indent=4, sort_keys=True))\n",
    "    all_data.append(geo_data)\n",
    "\n",
    "\n",
    "Audio(sound_file, autoplay=True)"
   ]
  },
  {
   "cell_type": "code",
   "execution_count": 49,
   "id": "74bcf450",
   "metadata": {},
   "outputs": [
    {
     "data": {
      "text/plain": [
       "{'name': 'Chicago Pita Kitchen',\n",
       " 'country': 'United States',\n",
       " 'country_code': 'us',\n",
       " 'state': 'Illinois',\n",
       " 'county': 'Cook County',\n",
       " 'city': 'Chicago',\n",
       " 'municipality': 'Hyde Park Township',\n",
       " 'postcode': '60633',\n",
       " 'suburb': 'Hegewisch',\n",
       " 'street': 'South Brainard Avenue',\n",
       " 'housenumber': '13227',\n",
       " 'lon': -87.55396332945435,\n",
       " 'lat': 41.6550718,\n",
       " 'state_code': 'IL',\n",
       " 'formatted': 'Chicago Pita Kitchen, 13227 South Brainard Avenue, Chicago, IL 60633, United States of America',\n",
       " 'address_line1': 'Chicago Pita Kitchen',\n",
       " 'address_line2': '13227 South Brainard Avenue, Chicago, IL 60633, United States of America',\n",
       " 'categories': ['building',\n",
       "  'building.catering',\n",
       "  'catering',\n",
       "  'catering.restaurant',\n",
       "  'catering.restaurant.greek'],\n",
       " 'details': ['details',\n",
       "  'details.building',\n",
       "  'details.catering',\n",
       "  'details.contact'],\n",
       " 'datasource': {'sourcename': 'openstreetmap',\n",
       "  'attribution': '© OpenStreetMap contributors',\n",
       "  'license': 'Open Database Licence',\n",
       "  'url': 'https://www.openstreetmap.org/copyright',\n",
       "  'raw': {'name': 'Chicago Pita Kitchen',\n",
       "   'phone': '+1-773-646-2000',\n",
       "   'osm_id': 211325741,\n",
       "   'amenity': 'restaurant',\n",
       "   'cuisine': 'greek',\n",
       "   'website': 'http://www.chicagopita.com/',\n",
       "   'building': 'yes',\n",
       "   'osm_type': 'w',\n",
       "   'addr:city': 'Chicago',\n",
       "   'addr:state': 'IL',\n",
       "   'addr:street': 'South Brainard Avenue',\n",
       "   'addr:postcode': 60633,\n",
       "   'opening_hours': 'Mo-Su 10:00-22:00',\n",
       "   'building:levels': 2,\n",
       "   'addr:housenumber': 13227,\n",
       "   'addr:street:name': 'Brainard',\n",
       "   'addr:street:type': 'Avenue',\n",
       "   'addr:street:prefix': 'South'}},\n",
       " 'distance': 731,\n",
       " 'place_id': '51bf76b6f073e355c05914a1d2cad9d34440f00102f9012d93980c000000009203144368696361676f2050697461204b69746368656e'}"
      ]
     },
     "execution_count": 49,
     "metadata": {},
     "output_type": "execute_result"
    }
   ],
   "source": [
    "all_data[4]['features'][0]['properties']"
   ]
  },
  {
   "cell_type": "code",
   "execution_count": 52,
   "id": "9fe8a563-2c81-4daa-a9cf-3c87ec5e0668",
   "metadata": {
    "tags": []
   },
   "outputs": [],
   "source": [
    "restaurants_only = []\n",
    "for region in all_data:\n",
    "    for i in region['features']:\n",
    "        restaurants_only.append(i['properties'])"
   ]
  },
  {
   "cell_type": "code",
   "execution_count": 55,
   "id": "5b1de8f4",
   "metadata": {},
   "outputs": [
    {
     "data": {
      "text/plain": [
       "{'name': 'Taco Mex',\n",
       " 'country': 'United States',\n",
       " 'country_code': 'us',\n",
       " 'state': 'Illinois',\n",
       " 'county': 'Cook County',\n",
       " 'city': 'Chicago',\n",
       " 'municipality': 'Hyde Park Township',\n",
       " 'postcode': '60617',\n",
       " 'suburb': 'South Deering',\n",
       " 'street': 'South Torrence Avenue',\n",
       " 'housenumber': '10658',\n",
       " 'lon': -87.55996449615577,\n",
       " 'lat': 41.701098599999995,\n",
       " 'state_code': 'IL',\n",
       " 'formatted': 'Taco Mex, 10658 South Torrence Avenue, Chicago, IL 60617, United States of America',\n",
       " 'address_line1': 'Taco Mex',\n",
       " 'address_line2': '10658 South Torrence Avenue, Chicago, IL 60617, United States of America',\n",
       " 'categories': ['building',\n",
       "  'building.catering',\n",
       "  'catering',\n",
       "  'catering.restaurant',\n",
       "  'catering.restaurant.mexican'],\n",
       " 'details': ['details',\n",
       "  'details.building',\n",
       "  'details.catering',\n",
       "  'details.contact',\n",
       "  'details.facilities'],\n",
       " 'datasource': {'sourcename': 'openstreetmap',\n",
       "  'attribution': '© OpenStreetMap contributors',\n",
       "  'license': 'Open Database Licence',\n",
       "  'url': 'https://www.openstreetmap.org/copyright',\n",
       "  'raw': {'name': 'Taco Mex',\n",
       "   'phone': '+1-773-734-4321',\n",
       "   'osm_id': 211271085,\n",
       "   'amenity': 'restaurant',\n",
       "   'cuisine': 'mexican',\n",
       "   'building': 'yes',\n",
       "   'osm_type': 'w',\n",
       "   'addr:city': 'Chicago',\n",
       "   'addr:state': 'IL',\n",
       "   'addr:street': 'South Torrence Avenue',\n",
       "   'addr:postcode': 60617,\n",
       "   'opening_hours': 'Tu-Fr 09:00-19:00; Sa 08:00-18:00; Su 08:00-14:00',\n",
       "   'building:levels': 1,\n",
       "   'outdoor_seating': 'no',\n",
       "   'addr:housenumber': 10658,\n",
       "   'addr:street:name': 'Torrence',\n",
       "   'addr:street:type': 'Avenue',\n",
       "   'addr:street:prefix': 'South'}},\n",
       " 'distance': 1124,\n",
       " 'place_id': '5196fc786dd6e355c0593aff6a99bdd94440f00102f901adbd970c000000009203085461636f204d6578'}"
      ]
     },
     "execution_count": 55,
     "metadata": {},
     "output_type": "execute_result"
    }
   ],
   "source": [
    "# Chicago is suppose to have around 7,300 restaurants\n",
    "len(restaurants_only)"
   ]
  }
 ],
 "metadata": {
  "kernelspec": {
   "display_name": "python310",
   "language": "python",
   "name": "python3"
  },
  "language_info": {
   "codemirror_mode": {
    "name": "ipython",
    "version": 3
   },
   "file_extension": ".py",
   "mimetype": "text/x-python",
   "name": "python",
   "nbconvert_exporter": "python",
   "pygments_lexer": "ipython3",
   "version": "3.10.11"
  }
 },
 "nbformat": 4,
 "nbformat_minor": 5
}
