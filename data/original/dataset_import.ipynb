{
 "cells": [
  {
   "cell_type": "markdown",
   "metadata": {},
   "source": [
    "## Obtain Large Datasets  \n",
    "The file naming conventions should already be in the gitignore file so these files will never be pushed to the repo."
   ]
  },
  {
   "cell_type": "code",
   "execution_count": 2,
   "metadata": {},
   "outputs": [],
   "source": [
    "# file urls - main website: https://data.cityofchicago.org/Health-Human-Services/Food-Inspections/4ijn-s7e5\n",
    "\n",
    "# food inspections\n",
    "url_food_inspections_cvs = 'https://data.cityofchicago.org/api/views/4ijn-s7e5/rows.csv?accessType=DOWNLOAD'\n",
    "url_food_inspections_soda = 'https://data.cityofchicago.org/resource/4ijn-s7e5.json'\n",
    "\n",
    "# all business licenses\n",
    "url_all_businesses_csv = 'https://data.cityofchicago.org/api/views/r5kz-chrr/rows.csv?accessType=DOWNLOAD'\n",
    "url_all_businesses_soda = 'https://data.cityofchicago.org/resource/r5kz-chrr.json'\n",
    "\n",
    "# active business licenses\n",
    "url_active_businesses_csv = 'https://data.cityofchicago.org/api/views/uupf-x98q/rows.csv?accessType=DOWNLOAD'\n",
    "url_active_businesses_soda = 'https://data.cityofchicago.org/resource/uupf-x98q.json'  \n",
    "\n",
    "# city boundaries\n",
    "url_boundaries_shapefile = 'https://data.cityofchicago.org/api/geospatial/ewy2-6yfk?method=export&format=Shapefile'\n",
    "url_boundaries_soda = 'https://data.cityofchicago.org/resource/qqq8-j68g.json'"
   ]
  },
  {
   "cell_type": "markdown",
   "metadata": {},
   "source": [
    "### Obtain Data through CSV Download"
   ]
  },
  {
   "cell_type": "code",
   "execution_count": 23,
   "metadata": {},
   "outputs": [],
   "source": [
    "# Dependencies\n",
    "import os\n",
    "import requests"
   ]
  },
  {
   "cell_type": "code",
   "execution_count": 24,
   "metadata": {},
   "outputs": [],
   "source": [
    "# dictionary of file names and file doownload link\n",
    "dataset_id = {'food_inspections.csv':url_food_inspections_cvs, \n",
    "              'all_licensed_businesses.csv': url_all_businesses_csv, \n",
    "              'active_licensed_businesses.csv':url_active_businesses_csv, \n",
    "              'Chicago_Boundaries.zip':url_boundaries_shapefile}"
   ]
  },
  {
   "cell_type": "code",
   "execution_count": 25,
   "metadata": {},
   "outputs": [],
   "source": [
    "# accesss each dataset and save it within the directory\n",
    "for k,v in dataset_id.items():\n",
    "    response = requests.get(v)\n",
    "    with open(os.path.join(k), 'wb') as f:\n",
    "        f.write(response.content)"
   ]
  },
  {
   "cell_type": "markdown",
   "metadata": {},
   "source": [
    "### Obtain Data through Socrata API  \n",
    "With this API I could add additional filters to my query but for my data analysis purposes I would like to start with all the data.  \n",
    "I am not continuing with this method since I don't want to spend time paginating the results and dealing with potential throttling issues."
   ]
  },
  {
   "cell_type": "code",
   "execution_count": null,
   "metadata": {},
   "outputs": [],
   "source": [
    "# Dependencies\n",
    "import pandas as pd\n",
    "from sodapy import Socrata"
   ]
  },
  {
   "cell_type": "code",
   "execution_count": 20,
   "metadata": {},
   "outputs": [],
   "source": [
    "# dictionary of file names and Socrata API id\n",
    "dataset_id = {'food_inspections.csv':'4ijn-s7e5', \n",
    "              'all_licensed_businesses.csv': 'r5kz-chrr', \n",
    "              'active_licensed_businesses.csv':'uupf-x98q', \n",
    "              'Chicago_Boundaries.zip':'qqq8-j68g'}"
   ]
  },
  {
   "cell_type": "code",
   "execution_count": 22,
   "metadata": {},
   "outputs": [
    {
     "name": "stderr",
     "output_type": "stream",
     "text": [
      "WARNING:root:Requests made without an app_token will be subject to strict throttling limits.\n"
     ]
    }
   ],
   "source": [
    "# This returns the first 999 records\n",
    "# access dataset via API and use pandas to write it to a file\n",
    "client = Socrata(\"data.cityofchicago.org\", None)\n",
    "for k,v in dataset_id.items():\n",
    "    results = client.get(v)\n",
    "    results_df = pd.DataFrame.from_records(results)\n",
    "    results_df.to_csv(f'{k}')\n",
    "    del results_df"
   ]
  },
  {
   "cell_type": "markdown",
   "metadata": {},
   "source": [
    "### Other interesting datasets  \n",
    "I may want to add this dataset to the project.  In this case, since I only want restaurant complaints then the Socrata API might be helpful but I could do the same with Pandas also very easily.  "
   ]
  },
  {
   "cell_type": "code",
   "execution_count": null,
   "metadata": {},
   "outputs": [],
   "source": [
    "# 311 Restaurant Complaints\n",
    "url = 'https://data.cityofchicago.org/Service-Requests/311-Service-Requests/v6vf-nfxy'"
   ]
  }
 ],
 "metadata": {
  "kernelspec": {
   "display_name": "python310",
   "language": "python",
   "name": "python3"
  },
  "language_info": {
   "codemirror_mode": {
    "name": "ipython",
    "version": 3
   },
   "file_extension": ".py",
   "mimetype": "text/x-python",
   "name": "python",
   "nbconvert_exporter": "python",
   "pygments_lexer": "ipython3",
   "version": "3.10.11"
  },
  "orig_nbformat": 4
 },
 "nbformat": 4,
 "nbformat_minor": 2
}
