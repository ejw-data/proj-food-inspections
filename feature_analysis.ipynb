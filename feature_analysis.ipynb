{
 "cells": [
  {
   "cell_type": "markdown",
   "id": "12e7725c-2c7a-439e-9f43-bdee30b7132f",
   "metadata": {},
   "source": [
    "## Food Inspection Analysis"
   ]
  },
  {
   "cell_type": "markdown",
   "id": "0dabf044-c72b-47b2-a019-2c8bb408cee2",
   "metadata": {},
   "source": [
    "### Potential Features  \n",
    "\n",
    "1.  name  \n",
    "1.  license number  \n",
    "1.  result (pass/fail)\n",
    "1.  business age (default start from 2010 inspection date)  \n",
    "1.  *number of chains / is_chain boolean \n",
    "1.  risk  \n",
    "1.  ward / neighborhood\n",
    "1.  license code  \n",
    "1.  renew  \n",
    "1.  conditional approved  \n",
    "1.  business activity\n",
    "1.  *number of (pass/fail) inspections during 1st, 2nd, 3rd, and 4th most recent  license period\n",
    "    * this can have errors so maybe use years from year_min to simplify\n",
    "1.  *geoapify number of starbucks within 0.5 mile radius  \n",
    "1.  *geoapify related business within 0.5 mile radius  \n",
    "1.  *us census track info of income  "
   ]
  },
  {
   "cell_type": "code",
   "execution_count": null,
   "id": "08f803ee-2d36-474c-830c-8b0a66aeca6a",
   "metadata": {},
   "outputs": [],
   "source": [
    "# # Code formatter\n",
    "# # !pip3 install nb_black\n",
    "# %load_ext nb_black"
   ]
  },
  {
   "cell_type": "code",
   "execution_count": 1,
   "id": "7f70d422-5779-4b15-a969-701681bbde3e",
   "metadata": {},
   "outputs": [],
   "source": [
    "# Import required libraries\n",
    "\n",
    "# eda tools\n",
    "import numpy as np\n",
    "import pandas as pd\n",
    "import re\n",
    "\n",
    "# visualization dependencies\n",
    "import matplotlib.pyplot as plt  \n",
    "import seaborn as sns\n",
    "\n",
    "# hide jupyter lab warnings\n",
    "import warnings\n",
    "warnings.filterwarnings('ignore')\n",
    "\n",
    "# expand the number of dataframe columns visible\n",
    "pd.options.display.max_columns = 100\n",
    "\n",
    "# make sound when this code executes: Audio(sound_file, autoplay=True)\n",
    "from IPython.display import Audio\n",
    "sound_file = './sound/chord.wav'\n"
   ]
  },
  {
   "cell_type": "code",
   "execution_count": 2,
   "id": "db7170a4-fc21-47ad-92c1-c5b8ef144f61",
   "metadata": {},
   "outputs": [
    {
     "data": {
      "text/html": [
       "<details>\n",
       "<summary>Click to view session information</summary>\n",
       "<pre>\n",
       "-----\n",
       "matplotlib          3.7.1\n",
       "numpy               1.23.5\n",
       "pandas              1.5.3\n",
       "session_info        1.0.0\n",
       "sklearn             1.2.2\n",
       "statsmodels         0.14.0\n",
       "-----\n",
       "</pre>\n",
       "<details>\n",
       "<summary>Click to view modules imported as dependencies</summary>\n",
       "<pre>\n",
       "PIL                         9.4.0\n",
       "asttokens                   NA\n",
       "backcall                    0.2.0\n",
       "beta_ufunc                  NA\n",
       "binom_ufunc                 NA\n",
       "bottleneck                  1.3.5\n",
       "cffi                        1.15.1\n",
       "cloudpickle                 2.2.1\n",
       "colorama                    0.4.6\n",
       "comm                        0.1.2\n",
       "cycler                      0.10.0\n",
       "cython_runtime              NA\n",
       "dateutil                    2.8.2\n",
       "debugpy                     1.5.1\n",
       "decorator                   5.1.1\n",
       "defusedxml                  0.7.1\n",
       "entrypoints                 0.4\n",
       "executing                   0.8.3\n",
       "google                      NA\n",
       "hypergeom_ufunc             NA\n",
       "invgauss_ufunc              NA\n",
       "ipykernel                   6.19.2\n",
       "ipython_genutils            0.2.0\n",
       "jedi                        0.18.1\n",
       "joblib                      1.1.1\n",
       "jupyter_server              1.23.4\n",
       "kiwisolver                  1.4.4\n",
       "mkl                         2.4.0\n",
       "mpl_toolkits                NA\n",
       "nbinom_ufunc                NA\n",
       "ncf_ufunc                   NA\n",
       "nct_ufunc                   NA\n",
       "ncx2_ufunc                  NA\n",
       "nt                          NA\n",
       "ntsecuritycon               NA\n",
       "numexpr                     2.8.4\n",
       "packaging                   23.0\n",
       "parso                       0.8.3\n",
       "patsy                       0.5.3\n",
       "pickleshare                 0.7.5\n",
       "pkg_resources               NA\n",
       "platformdirs                2.5.2\n",
       "prompt_toolkit              3.0.36\n",
       "psutil                      5.9.0\n",
       "pure_eval                   0.2.2\n",
       "pyarrow                     11.0.0\n",
       "pydev_ipython               NA\n",
       "pydevconsole                NA\n",
       "pydevd                      2.6.0\n",
       "pydevd_concurrency_analyser NA\n",
       "pydevd_file_utils           NA\n",
       "pydevd_plugins              NA\n",
       "pydevd_tracing              NA\n",
       "pygments                    2.15.1\n",
       "pyparsing                   3.0.9\n",
       "pytz                        2022.7\n",
       "scipy                       1.10.1\n",
       "setuptools                  68.0.0\n",
       "six                         1.16.0\n",
       "skewnorm_ufunc              NA\n",
       "sphinxcontrib               NA\n",
       "stack_data                  0.2.0\n",
       "threadpoolctl               2.2.0\n",
       "tornado                     6.2\n",
       "traitlets                   5.7.1\n",
       "typing_extensions           NA\n",
       "wcwidth                     0.2.5\n",
       "win32api                    NA\n",
       "win32security               NA\n",
       "zmq                         23.2.0\n",
       "zoneinfo                    NA\n",
       "zope                        NA\n",
       "</pre>\n",
       "</details> <!-- seems like this ends pre, so might as well be explicit -->\n",
       "<pre>\n",
       "-----\n",
       "IPython             8.12.0\n",
       "jupyter_client      7.4.9\n",
       "jupyter_core        5.3.0\n",
       "jupyterlab          3.5.3\n",
       "notebook            6.5.4\n",
       "-----\n",
       "Python 3.10.11 | packaged by Anaconda, Inc. | (main, Apr 20 2023, 18:56:50) [MSC v.1916 64 bit (AMD64)]\n",
       "Windows-10-10.0.22000-SP0\n",
       "-----\n",
       "Session information updated at 2023-08-25 10:32\n",
       "</pre>\n",
       "</details>"
      ],
      "text/plain": [
       "<IPython.core.display.HTML object>"
      ]
     },
     "execution_count": 2,
     "metadata": {},
     "output_type": "execute_result"
    }
   ],
   "source": [
    "# display package informatin\n",
    "# !conda install -c conda-forge session-info\n",
    "import session_info\n",
    "session_info.show()"
   ]
  },
  {
   "cell_type": "markdown",
   "id": "4bdd8d6b-ae54-431a-b3e5-096177db2910",
   "metadata": {},
   "source": [
    "### Read Dataset"
   ]
  },
  {
   "cell_type": "code",
   "execution_count": null,
   "id": "49b59f72-38f4-409b-a44c-230f4b34ec13",
   "metadata": {},
   "outputs": [],
   "source": [
    "# Read data\n",
    "restaurant_df = pd.read_csv('./data/combined_date.csv')"
   ]
  },
  {
   "cell_type": "markdown",
   "id": "b5d68dd4-07a0-4091-9643-c63cd26e7ce1",
   "metadata": {},
   "source": [
    "## Dataframe Review\n",
    "restraunt_df.head(10)"
   ]
  },
  {
   "cell_type": "markdown",
   "id": "6648e6b2-26ca-4e45-9b79-0760e11c5eeb",
   "metadata": {},
   "source": [
    "### Create Summary Statistics  \n",
    "- in place of number of fail, I will often use percent fail  \n",
    "\n",
    "**Checks**  \n",
    "1 - Categorical plot of X (# starbucks) with pass/fail color coding   \n",
    "1 - Bar chart of X (# starbucks) with pass/fail bars    \n",
    "1 - Line chart of Fail Percent versus # of starbucks  \n",
    "2/3 - Similar to above  \n",
    "4/5 - not applicable but used to derive other features  \n",
    "\n",
    "6/7/8/9 - Does time affect events?  How does the total/percent of fails change over time?  Are there more fails during a particular season?   Start with overall macro effects.  Are there multiple inspections for the same day for the same license number?  May need to combine.   \n",
    "\n",
    "** To do micro (comapny or license scale) the first need to answer these questions:  \n",
    "Is the company and address the same but different license number? May need to drop one of the license numbers.   \n",
    "What is the relation between previous number of inspections and success? - maybe show a category chart of 1st inspection (red is fail, blue is pass) through 10th inspection.  \n",
    "\n",
    "10 - line chart versus percent fail  \n",
    "11 - bar chart of franchise size  \n",
    "11 - line chart of franchise size versus percent fail  \n",
    "12 - bar chart comparing is chain and is not chain  \n",
    "12 - bar chart comparing percent fail of chain versus not chain  \n",
    "13 - bar chart comparing 3 risk categories and percent fail  \n",
    "14 - bar chart of wards and percent fail  \n",
    "14 - Does the location make a difference?  Make a bar chart.  \n",
    "14 (other) - Do certain addresses with multiple companies have a history of failing?   \n",
    "15 - license code - not needed  \n",
    "16 - bar chart of renew and percent fail  \n",
    "16 - bar chart of renew count verus first inspection count  \n",
    "17 - bar chart of condiational approval  boolean and percent fail  \n",
    "18 - bar chart of total count fails per business and bar chart of percent fail per business  \n",
    "19 - active or inactive business (based on business license experation)\n",
    "\n",
    "- Is there a pair plot with bars in the background?  "
   ]
  },
  {
   "cell_type": "markdown",
   "id": "fdc127b3-4a7c-41ab-8e39-8df87fd6de2b",
   "metadata": {},
   "source": [
    "## Analysis"
   ]
  },
  {
   "cell_type": "markdown",
   "id": "11e92fb4-73c3-4fa8-9479-10ac7e87e47e",
   "metadata": {},
   "source": [
    "### Data Consistency Checks"
   ]
  },
  {
   "cell_type": "code",
   "execution_count": null,
   "id": "646c69b4-583f-4174-9b55-f52f0c002283",
   "metadata": {},
   "outputs": [],
   "source": [
    "# shows that the two address look like they largely line up for the 148k records - 2500 records have mismatches but due to abbreviations and spacing differences\n",
    "x = restaurant_df['address_x'].apply(lambda x: x[0:10].lower())\n",
    "y = restaurant_df['address_y'].apply(lambda x: x[0:10].lower())\n",
    "\n",
    "restaurant_df[ x != y][['aka_name_x','address_x', 'aka_name_y','address_y']]"
   ]
  },
  {
   "cell_type": "code",
   "execution_count": null,
   "id": "c9c29205-35fe-4a03-9f21-03ef1c8db48a",
   "metadata": {},
   "outputs": [],
   "source": [
    "# show that for every name and address, there is a unique license_alias id number\n",
    "# this removes confusion for restaurants with the same name and address that have multiple licenses\n",
    "# information about the license is not lost since the original license_num is kept but also there are identifying columns like violations, license type, and license code that provide clarity\n",
    "restaurant_df.groupby(['aka_name_x','address_x','license_alias']).count()['risk']"
   ]
  },
  {
   "cell_type": "code",
   "execution_count": null,
   "id": "77ba661e-f98c-4b41-84c2-500f9d861d89",
   "metadata": {},
   "outputs": [],
   "source": [
    "# Are there multiple inspections for the same day for the same license number? \n",
    "# Yes, removed the rows that were identical\n",
    "# remaining duplicates are from failed initial attempt and later in the day fix and reinspect\n",
    "\n",
    "# restaurant_df.groupby(['inspect_date','license_num', 'aka_name_x']).count()['inspect_id'].sort_values(ascending=False)\n",
    "# restaurant_df[restaurant_df['aka_name_x'] == \"PETE'S  PIZZA & BAKEHOUSE\"].loc[:,['aka_name_x','license_num','facility_type','risk','address_x','city','state','zipcode',\n",
    "#                                                                                'inspect_date','inspect_type','results','violations','lat','lon', 'year']].sort_values(by='inspect_date')"
   ]
  },
  {
   "cell_type": "markdown",
   "id": "264f250b-0914-418b-8a33-a18b1f1475f3",
   "metadata": {},
   "source": [
    "### Basic Feature Analysis"
   ]
  },
  {
   "cell_type": "code",
   "execution_count": null,
   "id": "f4405ac1-5c5b-4661-9356-0da00aa09306",
   "metadata": {},
   "outputs": [],
   "source": [
    "total_records = restaurant_df.groupby('year').count()['inspect_id']\n",
    "\n",
    "failed_records = restaurant_df[restaurant_df['results'] == 'Fail'].groupby('year').count()['inspect_id']\n",
    "failed_records.plot.bar()"
   ]
  },
  {
   "cell_type": "code",
   "execution_count": null,
   "id": "e341375e-a780-4653-a841-3c39a65d6ed8",
   "metadata": {},
   "outputs": [],
   "source": [
    "failed_percent = failed_records/total_records*100\n",
    "failed_percent.plot.bar()"
   ]
  },
  {
   "cell_type": "code",
   "execution_count": null,
   "id": "578b04c2-ec71-4804-aaa6-0c8431caf4ac",
   "metadata": {},
   "outputs": [],
   "source": [
    "failed_records = restaurant_df[restaurant_df['results'] == 'Fail'].groupby(['year','month']).count()['inspect_id']\n",
    "failed_records.plot()"
   ]
  },
  {
   "cell_type": "code",
   "execution_count": null,
   "id": "27146eae-5d0e-460e-b74b-8f8c6a30b04c",
   "metadata": {},
   "outputs": [],
   "source": [
    "failed_records = restaurant_df[(restaurant_df['results'] == 'Fail') & (restaurant_df['year'] == 2014)].groupby(['year','month']).count()['inspect_id']\n",
    "failed_records.plot()"
   ]
  },
  {
   "cell_type": "code",
   "execution_count": null,
   "id": "5e5114cc-f93b-476c-b933-fa5fbae47302",
   "metadata": {},
   "outputs": [],
   "source": [
    "failed_records = restaurant_df[(restaurant_df['results'] == 'Fail') & (restaurant_df['year'] == 2015)].groupby(['year','month']).count()['inspect_id']\n",
    "failed_records.plot()"
   ]
  },
  {
   "cell_type": "code",
   "execution_count": null,
   "id": "f58daf27-9793-463f-b60d-7524100014bf",
   "metadata": {},
   "outputs": [],
   "source": [
    "failed_records = restaurant_df[(restaurant_df['results'] == 'Fail') & (restaurant_df['year'] == 2016)].groupby(['year','month']).count()['inspect_id']\n",
    "failed_records.plot()"
   ]
  },
  {
   "cell_type": "code",
   "execution_count": null,
   "id": "3940ea6f-ff14-4d30-a82e-d19f9e629b7c",
   "metadata": {},
   "outputs": [],
   "source": [
    "total_records = restaurant_df.groupby(['year','month']).count()['inspect_id']\n",
    "\n",
    "failed_records = restaurant_df[restaurant_df['results'] == 'Fail'].groupby(['year','month']).count()['inspect_id']\n",
    "\n",
    "diff = failed_records/total_records*100\n",
    "\n",
    "diff.plot()"
   ]
  },
  {
   "cell_type": "code",
   "execution_count": null,
   "id": "3e434c39-9e6b-4d91-97c0-d62fc39a6fe1",
   "metadata": {},
   "outputs": [],
   "source": [
    "total_records = restaurant_df.groupby(['year','month']).count()['inspect_id']\n",
    "failed_records = restaurant_df[(restaurant_df['results'] == 'Fail') & (restaurant_df['year'] == 2014)].groupby(['year','month']).count()['inspect_id']\n",
    "diff = failed_records/total_records*100\n",
    "diff.plot()"
   ]
  },
  {
   "cell_type": "code",
   "execution_count": null,
   "id": "15908afd-a957-429f-a40d-2018d7ebf139",
   "metadata": {},
   "outputs": [],
   "source": [
    "total_records = restaurant_df.groupby(['year','month']).count()['inspect_id']\n",
    "failed_records = restaurant_df[(restaurant_df['results'] == 'Fail') & (restaurant_df['year'] == 2015)].groupby(['year','month']).count()['inspect_id']\n",
    "diff = failed_records/total_records*100\n",
    "diff.plot()"
   ]
  },
  {
   "cell_type": "code",
   "execution_count": null,
   "id": "962fa11d-d538-44e6-b1fe-434279a48c23",
   "metadata": {},
   "outputs": [],
   "source": [
    "total_records = restaurant_df.groupby(['year','month']).count()['inspect_id']\n",
    "failed_records = restaurant_df[(restaurant_df['results'] == 'Fail') & (restaurant_df['year'] == 2016)].groupby(['year','month']).count()['inspect_id']\n",
    "diff = failed_records/total_records*100\n",
    "diff.plot()"
   ]
  },
  {
   "cell_type": "code",
   "execution_count": null,
   "id": "d2203c98-3164-4e16-94e9-f27b69754cc7",
   "metadata": {
    "tags": []
   },
   "outputs": [],
   "source": [
    "# Post-Analysis Summary:  \n",
    "# shows building up for first half of year and then decrease for the latter half of the year"
   ]
  },
  {
   "cell_type": "markdown",
   "id": "9150b3a0-da75-4f08-bd7b-9931d513a4fb",
   "metadata": {},
   "source": [
    "### Odd listings  \n",
    "O'Hare  \n",
    "PRESENCE RESURRECTION MEDICAL CENTER  \n",
    "Hospital Food courts  \n",
    "2-4 downtown food courts  "
   ]
  },
  {
   "cell_type": "code",
   "execution_count": null,
   "id": "160e5f19-33ca-40dd-a7b7-499030f58d42",
   "metadata": {},
   "outputs": [],
   "source": [
    "# restaurant_df[restaurant_df['aka_name_x'] == 'PRESENCE RESURRECTION MEDICAL CENTER']"
   ]
  },
  {
   "cell_type": "code",
   "execution_count": null,
   "id": "681d4ae0-0da2-4560-ae93-baa74a60d620",
   "metadata": {},
   "outputs": [],
   "source": [
    "temp.xs('#1 CHOP SUEY', level='aka_name_x')"
   ]
  },
  {
   "cell_type": "code",
   "execution_count": null,
   "id": "ff833fd9-d5b1-48c0-85f6-cd99b73d1b7c",
   "metadata": {
    "tags": []
   },
   "outputs": [],
   "source": [
    "temp.sort_values(by='duplicate_licenses_per_name_address', ascending=False).index.get_level_values('aka_name_x').to_list()"
   ]
  },
  {
   "cell_type": "code",
   "execution_count": null,
   "id": "130b5bbe-10df-4864-ab4e-f6a8c092f05e",
   "metadata": {},
   "outputs": [],
   "source": [
    "temp.xs(\"RENAISSANCE CHICAGO O'HARE HOTEL\", level='aka_name_x')"
   ]
  },
  {
   "cell_type": "code",
   "execution_count": null,
   "id": "39cf48c7-8d57-4337-92cb-e527954f5b0b",
   "metadata": {},
   "outputs": [],
   "source": [
    "restaurant_df[restaurant_df['aka_name_x'] == \"RENAISSANCE CHICAGO O'HARE HOTEL\"].sort_values(by='license_num', ascending=True).sort_values(by='inspect_date', ascending=True)"
   ]
  },
  {
   "cell_type": "code",
   "execution_count": null,
   "id": "cf3c1d0f-5b96-44d5-92c8-a08302227df2",
   "metadata": {
    "tags": []
   },
   "outputs": [],
   "source": [
    "temp.sort_values(by='number_of_chain_stores', ascending=False)"
   ]
  },
  {
   "cell_type": "code",
   "execution_count": null,
   "id": "0c9007ba-7fe0-4f62-9ecd-abf68b7deb0a",
   "metadata": {},
   "outputs": [],
   "source": [
    "temp.sort_values(by='duplicate_licenses_per_name_address', ascending=False).loc[\"MISS RICKY'S\",:]"
   ]
  },
  {
   "cell_type": "code",
   "execution_count": null,
   "id": "da2f2470-a52f-4fa7-8df7-b6416163734b",
   "metadata": {},
   "outputs": [],
   "source": [
    "temp.sort_values(by='duplicate_licenses_per_name_address', ascending=False).loc[\"SUBWAY\",:]"
   ]
  },
  {
   "cell_type": "code",
   "execution_count": null,
   "id": "231841f8-5446-4857-80dd-c08aeced9ebe",
   "metadata": {},
   "outputs": [],
   "source": [
    "restaurant_df.groupby(['aka_name_x','license_description']).count().iloc[:,0:2]"
   ]
  },
  {
   "cell_type": "code",
   "execution_count": null,
   "id": "3ce75b7e-94b1-4bed-a1c0-60493e35f14d",
   "metadata": {},
   "outputs": [],
   "source": [
    "temp = restaurant_df[['aka_name_x','facility_type','inspect_type','license_description','bus_activity', 'application_type']]"
   ]
  },
  {
   "cell_type": "code",
   "execution_count": null,
   "id": "25212859-a6b3-4c7e-b2a2-9ec7c7c75c0c",
   "metadata": {},
   "outputs": [],
   "source": [
    "temp['bus_activity'].value_counts()"
   ]
  },
  {
   "cell_type": "code",
   "execution_count": null,
   "id": "4dc234ad-50b4-4afb-a7ff-507e696560d9",
   "metadata": {},
   "outputs": [],
   "source": [
    "temp['application_type'].value_counts()"
   ]
  },
  {
   "cell_type": "markdown",
   "id": "0807b1c7-2ba6-4a95-a3f3-e6fd6986fc4b",
   "metadata": {},
   "source": [
    "### Aggregate data  \n",
    "**business activity**:  good feature where a business might have multiple license numbers and each one is for a different license code(?) - description can be broken into new categories  \n",
    "**license code**:  is the same as license description - can be broken into a couple categories\n"
   ]
  },
  {
   "cell_type": "code",
   "execution_count": null,
   "id": "e73a3613-cb09-402e-8434-09432be6ac6d",
   "metadata": {},
   "outputs": [],
   "source": [
    "#Check to see if this is different than license description \n",
    "restaurant_df['license_code'].value_counts()"
   ]
  },
  {
   "cell_type": "code",
   "execution_count": null,
   "id": "0deb7868-0779-4aa9-9a51-e57e8c52af99",
   "metadata": {},
   "outputs": [],
   "source": [
    "temp['license_description'].value_counts()"
   ]
  },
  {
   "cell_type": "code",
   "execution_count": null,
   "id": "c7db65ba-4d00-4698-8d3b-c7bd351e67c5",
   "metadata": {},
   "outputs": [],
   "source": [
    "# count the number of business_activity per business name\n",
    "# derive stats of how long the business has had each service\n",
    "# aggregate all values to a single dataframe.  \n",
    "# split business_activity into:  perishable foods, onsite-prep-dining, onsite-prep-nodining,  \n",
    "restaurant_df.groupby(['aka_name_x','license_num','bus_activity','license_code']).count()"
   ]
  }
 ],
 "metadata": {
  "kernelspec": {
   "display_name": "python310",
   "language": "python",
   "name": "python3"
  },
  "language_info": {
   "codemirror_mode": {
    "name": "ipython",
    "version": 3
   },
   "file_extension": ".py",
   "mimetype": "text/x-python",
   "name": "python",
   "nbconvert_exporter": "python",
   "pygments_lexer": "ipython3",
   "version": "3.10.11"
  }
 },
 "nbformat": 4,
 "nbformat_minor": 5
}
